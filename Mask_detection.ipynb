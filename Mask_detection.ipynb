{
  "cells": [
    {
      "cell_type": "markdown",
      "metadata": {
        "id": "GHhqP-6kWaBG"
      },
      "source": [
        "## Data collection from Kaggle"
      ]
    },
    {
      "cell_type": "code",
      "execution_count": 1,
      "metadata": {
        "id": "tYNZkiwjR6C1"
      },
      "outputs": [
        {
          "ename": "ModuleNotFoundError",
          "evalue": "No module named 'tensorflow'",
          "output_type": "error",
          "traceback": [
            "\u001b[1;31m---------------------------------------------------------------------------\u001b[0m",
            "\u001b[1;31mModuleNotFoundError\u001b[0m                       Traceback (most recent call last)",
            "Cell \u001b[1;32mIn[1], line 4\u001b[0m\n\u001b[0;32m      2\u001b[0m \u001b[39mimport\u001b[39;00m \u001b[39mshutil\u001b[39;00m\n\u001b[0;32m      3\u001b[0m \u001b[39mimport\u001b[39;00m \u001b[39mzipfile\u001b[39;00m\n\u001b[1;32m----> 4\u001b[0m \u001b[39mfrom\u001b[39;00m \u001b[39mtensorflow\u001b[39;00m\u001b[39m.\u001b[39;00m\u001b[39mkeras\u001b[39;00m \u001b[39mimport\u001b[39;00m image\n",
            "\u001b[1;31mModuleNotFoundError\u001b[0m: No module named 'tensorflow'"
          ]
        }
      ],
      "source": [
        "import os\n",
        "import shutil\n",
        "import zipfile\n",
        "from tensorflow.keras import image"
      ]
    },
    {
      "cell_type": "code",
      "execution_count": 11,
      "metadata": {
        "colab": {
          "base_uri": "https://localhost:8080/"
        },
        "id": "6PQUgVqrWP4W",
        "outputId": "366b2fc1-7242-4acd-ea1d-31d6a4e0f578"
      },
      "outputs": [
        {
          "name": "stdout",
          "output_type": "stream",
          "text": [
            "ref                                                         title                                         size  lastUpdated          downloadCount  voteCount  usabilityRating  \n",
            "----------------------------------------------------------  -------------------------------------------  -----  -------------------  -------------  ---------  ---------------  \n",
            "arnabchaki/data-science-salaries-2023                       Data Science Salaries 2023  💸                 25KB  2023-04-13 09:55:16           6111        152  1.0              \n",
            "salvatorerastelli/spotify-and-youtube                       Spotify and Youtube                            9MB  2023-03-20 15:43:25          11599        405  1.0              \n",
            "iammustafatz/diabetes-prediction-dataset                    Diabetes prediction dataset                  734KB  2023-04-08 06:11:45           3145         56  1.0              \n",
            "shawkyelgendy/furniture-price-prediction                    Furniture Price Prediction                    81KB  2023-04-17 09:35:17           1006         27  1.0              \n",
            "arnabchaki/indian-restaurants-2023                          Indian Restaurants 2023 🍲                    139KB  2023-04-27 09:57:57            623         23  1.0              \n",
            "kapturovalexander/ferrari-and-tesla-share-prices-2015-2023  Ferrari and Tesla. Share prices (2015-2023)   82KB  2023-04-30 11:28:39            610         30  1.0              \n",
            "desalegngeb/students-exam-scores                            Students Exam Scores: Extended Dataset       695KB  2023-04-14 00:15:38           2243         58  1.0              \n",
            "erdemtaha/cancer-data                                       Cancer Data                                   49KB  2023-03-22 07:57:00           5982        116  1.0              \n",
            "lokeshparab/amazon-products-dataset                         Amazon Products Sales Dataset 2023            80MB  2023-03-26 10:45:19           6202        132  1.0              \n",
            "cuecacuela/england-football-matches                         England Football Matches                     389KB  2023-04-25 16:08:27            484         26  1.0              \n",
            "matarrgaye/uk-consumer-trends-current-price                 UK Consumer Trends: 1997 - 2022, Quarterly   293KB  2023-04-26 14:49:10            426         21  0.88235295       \n",
            "harshsingh2209/supply-chain-analysis                        Supply Chain Analysis                          9KB  2023-04-22 23:32:27            466         24  1.0              \n",
            "ulrikthygepedersen/fastfood-nutrition                       Fastfood Nutrition                            12KB  2023-03-21 10:02:41           4859         91  1.0              \n",
            "priyanshusethi/minecraft-piracy-dataset                     Minecraft Piracy Dataset                      30KB  2023-04-20 14:14:10            339         32  1.0              \n",
            "ppb00x/credit-risk-customers                                credit_risk_customers                         18KB  2023-04-12 08:28:28           2032         49  1.0              \n",
            "evangower/premier-league-2022-2023                          Premier League 2022-2023                       7KB  2023-04-14 19:45:22           1567         38  1.0              \n",
            "arnabchaki/popular-video-games-1980-2023                    Popular Video Games 1980 - 2023 🎮              1MB  2023-03-23 16:16:51           5049        135  1.0              \n",
            "dansbecker/melbourne-housing-snapshot                       Melbourne Housing Snapshot                   451KB  2018-06-05 12:52:24         114105       1253  0.7058824        \n",
            "shubhammeshram579/house                                     Housing price prediction                      12KB  2023-04-19 09:37:25           1136         35  1.0              \n",
            "r1chardson/the-world-university-rankings-2011-2023          THE World University Rankings 2011-2023        1MB  2023-04-03 12:43:37           3051         66  1.0              \n"
          ]
        }
      ],
      "source": [
        "!kaggle datasets list"
      ]
    },
    {
      "cell_type": "code",
      "execution_count": 12,
      "metadata": {
        "colab": {
          "base_uri": "https://localhost:8080/"
        },
        "id": "fLZACNtGWSie",
        "outputId": "a4a188d4-bd8e-4457-bcef-5337a62e2c26"
      },
      "outputs": [
        {
          "name": "stdout",
          "output_type": "stream",
          "text": [
            "Downloading face-mask-12k-images-dataset.zip to c:\\Users\\Admin\\Documents\\Face_Mask_Detection_Challenge\n",
            "\n"
          ]
        },
        {
          "name": "stderr",
          "output_type": "stream",
          "text": [
            "\n",
            "  0%|          | 0.00/330M [00:00<?, ?B/s]\n",
            "  0%|          | 1.00M/330M [00:00<00:52, 6.60MB/s]\n",
            "  1%|          | 2.00M/330M [00:00<00:46, 7.38MB/s]\n",
            "  1%|          | 3.00M/330M [00:00<00:43, 7.83MB/s]\n",
            "  1%|          | 4.00M/330M [00:00<00:41, 8.16MB/s]\n",
            "  2%|▏         | 5.00M/330M [00:00<00:39, 8.60MB/s]\n",
            "  2%|▏         | 6.00M/330M [00:00<00:37, 8.97MB/s]\n",
            "  2%|▏         | 7.00M/330M [00:00<00:37, 9.12MB/s]\n",
            "  2%|▏         | 8.00M/330M [00:00<00:35, 9.43MB/s]\n",
            "  3%|▎         | 10.0M/330M [00:01<00:42, 7.90MB/s]\n",
            "  4%|▎         | 12.0M/330M [00:01<00:55, 6.02MB/s]\n",
            "  4%|▍         | 14.0M/330M [00:02<00:55, 6.02MB/s]\n",
            "  5%|▍         | 15.0M/330M [00:02<00:50, 6.60MB/s]\n",
            "  5%|▍         | 16.0M/330M [00:02<00:46, 7.16MB/s]\n",
            "  5%|▌         | 17.0M/330M [00:02<00:43, 7.61MB/s]\n",
            "  5%|▌         | 18.0M/330M [00:02<00:40, 8.11MB/s]\n",
            "  6%|▌         | 19.0M/330M [00:02<00:38, 8.45MB/s]\n",
            "  6%|▌         | 20.0M/330M [00:02<00:48, 6.77MB/s]\n",
            "  6%|▋         | 21.0M/330M [00:02<00:43, 7.46MB/s]\n",
            "  7%|▋         | 22.0M/330M [00:03<01:02, 5.15MB/s]\n",
            "  7%|▋         | 23.0M/330M [00:03<00:56, 5.70MB/s]\n",
            "  7%|▋         | 24.0M/330M [00:03<00:49, 6.53MB/s]\n",
            "  8%|▊         | 26.0M/330M [00:03<00:42, 7.59MB/s]\n",
            "  8%|▊         | 27.0M/330M [00:03<00:39, 8.11MB/s]\n",
            "  9%|▉         | 29.0M/330M [00:04<00:36, 8.67MB/s]\n",
            "  9%|▉         | 30.0M/330M [00:04<00:47, 6.61MB/s]\n",
            "  9%|▉         | 31.0M/330M [00:04<00:47, 6.61MB/s]\n",
            " 10%|▉         | 32.0M/330M [00:04<00:44, 7.06MB/s]\n",
            " 10%|▉         | 33.0M/330M [00:04<00:41, 7.56MB/s]\n",
            " 10%|█         | 34.0M/330M [00:04<00:38, 8.05MB/s]\n",
            " 11%|█         | 35.0M/330M [00:04<00:36, 8.59MB/s]\n",
            " 11%|█         | 37.0M/330M [00:05<00:40, 7.57MB/s]\n",
            " 12%|█▏        | 38.0M/330M [00:05<00:43, 7.09MB/s]\n",
            " 12%|█▏        | 39.0M/330M [00:05<00:43, 7.09MB/s]\n",
            " 12%|█▏        | 40.0M/330M [00:05<00:40, 7.44MB/s]\n",
            " 12%|█▏        | 41.0M/330M [00:05<00:39, 7.71MB/s]\n",
            " 13%|█▎        | 42.0M/330M [00:06<00:37, 8.01MB/s]\n",
            " 13%|█▎        | 43.0M/330M [00:06<00:36, 8.24MB/s]\n",
            " 13%|█▎        | 44.0M/330M [00:06<00:36, 8.34MB/s]\n",
            " 14%|█▎        | 45.0M/330M [00:06<00:34, 8.67MB/s]\n",
            " 14%|█▍        | 47.0M/330M [00:06<00:32, 9.23MB/s]\n",
            " 15%|█▍        | 48.0M/330M [00:06<00:31, 9.32MB/s]\n",
            " 15%|█▍        | 49.0M/330M [00:06<00:32, 9.21MB/s]\n",
            " 15%|█▌        | 50.0M/330M [00:06<00:34, 8.57MB/s]\n",
            " 15%|█▌        | 51.0M/330M [00:07<00:34, 8.45MB/s]\n",
            " 16%|█▌        | 52.0M/330M [00:07<00:50, 5.81MB/s]\n",
            " 16%|█▌        | 53.0M/330M [00:07<00:55, 5.22MB/s]\n",
            " 16%|█▋        | 54.0M/330M [00:07<00:50, 5.72MB/s]\n",
            " 17%|█▋        | 55.0M/330M [00:07<00:43, 6.58MB/s]\n",
            " 17%|█▋        | 56.0M/330M [00:07<00:39, 7.24MB/s]\n",
            " 17%|█▋        | 57.0M/330M [00:08<00:36, 7.87MB/s]\n",
            " 18%|█▊        | 58.0M/330M [00:08<00:34, 8.38MB/s]\n",
            " 18%|█▊        | 59.0M/330M [00:08<00:36, 7.78MB/s]\n",
            " 18%|█▊        | 60.0M/330M [00:08<00:34, 8.12MB/s]\n",
            " 18%|█▊        | 61.0M/330M [00:08<01:02, 4.53MB/s]\n",
            " 19%|█▉        | 62.0M/330M [00:09<00:57, 4.91MB/s]\n",
            " 19%|█▉        | 63.0M/330M [00:09<00:52, 5.35MB/s]\n",
            " 19%|█▉        | 64.0M/330M [00:09<00:47, 5.84MB/s]\n",
            " 20%|█▉        | 65.0M/330M [00:09<00:45, 6.16MB/s]\n",
            " 20%|█▉        | 66.0M/330M [00:09<00:42, 6.52MB/s]\n",
            " 20%|██        | 67.0M/330M [00:09<00:42, 6.52MB/s]\n",
            " 21%|██        | 68.0M/330M [00:09<00:39, 7.03MB/s]\n",
            " 21%|██        | 69.0M/330M [00:10<00:38, 7.10MB/s]\n",
            " 21%|██        | 70.0M/330M [00:10<00:40, 6.72MB/s]\n",
            " 21%|██▏       | 71.0M/330M [00:10<00:52, 5.22MB/s]\n",
            " 22%|██▏       | 72.0M/330M [00:10<00:47, 5.72MB/s]\n",
            " 22%|██▏       | 73.0M/330M [00:10<00:43, 6.19MB/s]\n",
            " 22%|██▏       | 74.0M/330M [00:11<00:41, 6.45MB/s]\n",
            " 23%|██▎       | 75.0M/330M [00:11<00:39, 6.78MB/s]\n",
            " 23%|██▎       | 76.0M/330M [00:11<00:36, 7.39MB/s]\n",
            " 23%|██▎       | 77.0M/330M [00:11<00:35, 7.56MB/s]\n",
            " 24%|██▎       | 78.0M/330M [00:11<00:35, 7.52MB/s]\n",
            " 24%|██▍       | 79.0M/330M [00:11<00:35, 7.48MB/s]\n",
            " 24%|██▍       | 80.0M/330M [00:11<00:34, 7.54MB/s]\n",
            " 25%|██▍       | 81.0M/330M [00:12<00:39, 6.70MB/s]\n",
            " 25%|██▍       | 82.0M/330M [00:12<00:36, 7.12MB/s]\n",
            " 25%|██▌       | 83.0M/330M [00:12<00:36, 7.16MB/s]\n",
            " 25%|██▌       | 84.0M/330M [00:12<00:32, 7.89MB/s]\n",
            " 26%|██▌       | 85.0M/330M [00:12<00:31, 8.04MB/s]\n",
            " 26%|██▌       | 86.0M/330M [00:12<00:30, 8.33MB/s]\n",
            " 26%|██▋       | 87.0M/330M [00:12<00:31, 8.07MB/s]\n",
            " 27%|██▋       | 88.0M/330M [00:12<00:33, 7.56MB/s]\n",
            " 27%|██▋       | 89.0M/330M [00:13<00:33, 7.62MB/s]\n",
            " 27%|██▋       | 90.0M/330M [00:13<00:34, 7.38MB/s]\n",
            " 28%|██▊       | 91.0M/330M [00:13<00:47, 5.25MB/s]\n",
            " 28%|██▊       | 92.0M/330M [00:13<00:43, 5.81MB/s]\n",
            " 28%|██▊       | 93.0M/330M [00:13<00:45, 5.44MB/s]\n",
            " 28%|██▊       | 94.0M/330M [00:14<00:39, 6.24MB/s]\n",
            " 29%|██▉       | 95.0M/330M [00:14<00:47, 5.24MB/s]\n",
            " 29%|██▉       | 96.0M/330M [00:14<00:41, 5.89MB/s]\n",
            " 29%|██▉       | 97.0M/330M [00:14<00:36, 6.62MB/s]\n",
            " 30%|██▉       | 98.0M/330M [00:14<00:33, 7.32MB/s]\n",
            " 30%|██▉       | 99.0M/330M [00:14<00:32, 7.56MB/s]\n",
            " 30%|███       | 100M/330M [00:14<00:32, 7.46MB/s] \n",
            " 31%|███       | 101M/330M [00:15<00:32, 7.48MB/s]\n",
            " 31%|███       | 102M/330M [00:15<00:43, 5.54MB/s]\n",
            " 31%|███       | 103M/330M [00:15<00:40, 5.95MB/s]\n",
            " 31%|███▏      | 104M/330M [00:15<00:49, 4.81MB/s]\n",
            " 32%|███▏      | 105M/330M [00:15<00:44, 5.30MB/s]\n",
            " 32%|███▏      | 106M/330M [00:16<00:41, 5.69MB/s]\n",
            " 32%|███▏      | 107M/330M [00:16<00:36, 6.34MB/s]\n",
            " 33%|███▎      | 108M/330M [00:16<00:35, 6.56MB/s]\n",
            " 33%|███▎      | 109M/330M [00:16<00:36, 6.44MB/s]\n",
            " 33%|███▎      | 110M/330M [00:16<00:33, 6.95MB/s]\n",
            " 34%|███▎      | 111M/330M [00:16<00:34, 6.62MB/s]\n",
            " 34%|███▍      | 112M/330M [00:16<00:31, 7.22MB/s]\n",
            " 34%|███▍      | 113M/330M [00:17<00:32, 6.98MB/s]\n",
            " 35%|███▍      | 114M/330M [00:17<00:30, 7.34MB/s]\n",
            " 35%|███▍      | 115M/330M [00:17<00:30, 7.51MB/s]\n",
            " 35%|███▌      | 116M/330M [00:17<00:29, 7.50MB/s]\n",
            " 35%|███▌      | 117M/330M [00:17<00:29, 7.71MB/s]\n",
            " 36%|███▌      | 118M/330M [00:17<00:28, 7.79MB/s]\n",
            " 36%|███▌      | 119M/330M [00:17<00:30, 7.36MB/s]\n",
            " 36%|███▋      | 120M/330M [00:18<00:29, 7.39MB/s]\n",
            " 37%|███▋      | 121M/330M [00:18<00:28, 7.80MB/s]\n",
            " 37%|███▋      | 122M/330M [00:18<00:29, 7.33MB/s]\n",
            " 37%|███▋      | 123M/330M [00:18<00:27, 7.82MB/s]\n",
            " 38%|███▊      | 124M/330M [00:18<00:30, 7.00MB/s]\n",
            " 38%|███▊      | 125M/330M [00:18<00:33, 6.48MB/s]\n",
            " 38%|███▊      | 126M/330M [00:19<00:32, 6.67MB/s]\n",
            " 39%|███▉      | 128M/330M [00:19<00:25, 8.18MB/s]\n",
            " 39%|███▉      | 129M/330M [00:19<00:28, 7.47MB/s]\n",
            " 39%|███▉      | 130M/330M [00:19<00:26, 7.84MB/s]\n",
            " 40%|███▉      | 131M/330M [00:19<00:36, 5.69MB/s]\n",
            " 40%|████      | 133M/330M [00:20<00:35, 5.81MB/s]\n",
            " 41%|████      | 134M/330M [00:20<00:34, 5.99MB/s]\n",
            " 41%|████      | 135M/330M [00:20<00:30, 6.72MB/s]\n",
            " 41%|████▏     | 137M/330M [00:20<00:26, 7.70MB/s]\n",
            " 42%|████▏     | 139M/330M [00:21<00:33, 5.96MB/s]\n",
            " 43%|████▎     | 141M/330M [00:21<00:32, 6.03MB/s]\n",
            " 43%|████▎     | 142M/330M [00:21<00:31, 6.26MB/s]\n",
            " 43%|████▎     | 143M/330M [00:21<00:30, 6.36MB/s]\n",
            " 44%|████▎     | 144M/330M [00:21<00:33, 5.80MB/s]\n",
            " 44%|████▍     | 145M/330M [00:22<00:31, 6.16MB/s]\n",
            " 44%|████▍     | 146M/330M [00:22<00:30, 6.36MB/s]\n",
            " 45%|████▍     | 147M/330M [00:22<00:33, 5.65MB/s]\n",
            " 45%|████▍     | 148M/330M [00:22<00:29, 6.50MB/s]\n",
            " 45%|████▌     | 149M/330M [00:22<00:26, 7.25MB/s]\n",
            " 45%|████▌     | 150M/330M [00:23<00:36, 5.22MB/s]\n",
            " 46%|████▌     | 152M/330M [00:23<00:27, 6.83MB/s]\n",
            " 46%|████▋     | 153M/330M [00:23<00:25, 7.23MB/s]\n",
            " 47%|████▋     | 155M/330M [00:23<00:27, 6.79MB/s]\n",
            " 47%|████▋     | 156M/330M [00:23<00:26, 7.02MB/s]\n",
            " 48%|████▊     | 157M/330M [00:23<00:24, 7.56MB/s]\n",
            " 48%|████▊     | 158M/330M [00:24<00:27, 6.55MB/s]\n",
            " 48%|████▊     | 159M/330M [00:24<00:25, 7.16MB/s]\n",
            " 48%|████▊     | 160M/330M [00:24<00:22, 7.79MB/s]\n",
            " 49%|████▊     | 161M/330M [00:24<00:21, 8.18MB/s]\n",
            " 49%|████▉     | 162M/330M [00:24<00:23, 7.48MB/s]\n",
            " 50%|████▉     | 164M/330M [00:25<00:25, 6.80MB/s]\n",
            " 50%|████▉     | 165M/330M [00:25<00:27, 6.28MB/s]\n",
            " 50%|█████     | 166M/330M [00:25<00:25, 6.86MB/s]\n",
            " 51%|█████     | 167M/330M [00:25<00:23, 7.14MB/s]\n",
            " 51%|█████     | 169M/330M [00:25<00:22, 7.37MB/s]\n",
            " 51%|█████▏    | 170M/330M [00:25<00:22, 7.49MB/s]\n",
            " 52%|█████▏    | 171M/330M [00:26<00:28, 5.91MB/s]\n",
            " 52%|█████▏    | 172M/330M [00:26<00:26, 6.27MB/s]\n",
            " 52%|█████▏    | 173M/330M [00:26<00:25, 6.35MB/s]\n",
            " 53%|█████▎    | 174M/330M [00:26<00:23, 6.99MB/s]\n",
            " 53%|█████▎    | 176M/330M [00:26<00:19, 8.10MB/s]\n",
            " 54%|█████▎    | 177M/330M [00:26<00:19, 8.25MB/s]\n",
            " 54%|█████▍    | 179M/330M [00:27<00:18, 8.76MB/s]\n",
            " 54%|█████▍    | 180M/330M [00:27<00:25, 6.26MB/s]\n",
            " 55%|█████▍    | 181M/330M [00:27<00:22, 6.88MB/s]\n",
            " 55%|█████▌    | 182M/330M [00:27<00:21, 7.16MB/s]\n",
            " 55%|█████▌    | 183M/330M [00:27<00:19, 7.73MB/s]\n",
            " 56%|█████▌    | 185M/330M [00:27<00:17, 8.81MB/s]\n",
            " 56%|█████▋    | 186M/330M [00:28<00:16, 9.10MB/s]\n",
            " 57%|█████▋    | 188M/330M [00:28<00:26, 5.57MB/s]\n",
            " 58%|█████▊    | 190M/330M [00:28<00:22, 6.57MB/s]\n",
            " 58%|█████▊    | 192M/330M [00:29<00:19, 7.35MB/s]\n",
            " 58%|█████▊    | 193M/330M [00:29<00:18, 7.65MB/s]\n",
            " 59%|█████▊    | 194M/330M [00:29<00:18, 7.93MB/s]\n",
            " 59%|█████▉    | 195M/330M [00:29<00:18, 7.66MB/s]\n",
            " 59%|█████▉    | 196M/330M [00:29<00:18, 7.64MB/s]\n",
            " 60%|█████▉    | 197M/330M [00:29<00:22, 6.10MB/s]\n",
            " 60%|█████▉    | 198M/330M [00:30<00:20, 6.71MB/s]\n",
            " 60%|██████    | 199M/330M [00:30<00:19, 7.09MB/s]\n",
            " 61%|██████    | 200M/330M [00:30<00:18, 7.29MB/s]\n",
            " 61%|██████    | 201M/330M [00:30<00:17, 7.83MB/s]\n",
            " 61%|██████    | 202M/330M [00:30<00:17, 7.71MB/s]\n",
            " 61%|██████▏   | 203M/330M [00:30<00:16, 8.24MB/s]\n",
            " 62%|██████▏   | 204M/330M [00:30<00:19, 6.87MB/s]\n",
            " 62%|██████▏   | 205M/330M [00:31<00:19, 6.63MB/s]\n",
            " 62%|██████▏   | 206M/330M [00:31<00:19, 6.60MB/s]\n",
            " 63%|██████▎   | 207M/330M [00:31<00:19, 6.68MB/s]\n",
            " 63%|██████▎   | 208M/330M [00:31<00:18, 7.03MB/s]\n",
            " 63%|██████▎   | 209M/330M [00:31<00:17, 7.30MB/s]\n",
            " 64%|██████▍   | 211M/330M [00:31<00:14, 8.46MB/s]\n",
            " 64%|██████▍   | 212M/330M [00:32<00:20, 5.99MB/s]\n",
            " 64%|██████▍   | 213M/330M [00:32<00:19, 6.43MB/s]\n",
            " 65%|██████▍   | 214M/330M [00:32<00:17, 6.89MB/s]\n",
            " 65%|██████▌   | 215M/330M [00:32<00:17, 7.11MB/s]\n",
            " 65%|██████▌   | 216M/330M [00:32<00:16, 7.36MB/s]\n",
            " 66%|██████▌   | 217M/330M [00:32<00:14, 8.01MB/s]\n",
            " 66%|██████▌   | 218M/330M [00:32<00:15, 7.63MB/s]\n",
            " 66%|██████▋   | 219M/330M [00:33<00:15, 7.75MB/s]\n",
            " 67%|██████▋   | 220M/330M [00:33<00:15, 7.41MB/s]\n",
            " 67%|██████▋   | 221M/330M [00:33<00:20, 5.61MB/s]\n",
            " 67%|██████▋   | 222M/330M [00:33<00:17, 6.45MB/s]\n",
            " 68%|██████▊   | 223M/330M [00:33<00:15, 7.17MB/s]\n",
            " 68%|██████▊   | 224M/330M [00:33<00:14, 7.84MB/s]\n",
            " 68%|██████▊   | 225M/330M [00:33<00:13, 7.93MB/s]\n",
            " 68%|██████▊   | 226M/330M [00:34<00:13, 8.23MB/s]\n",
            " 69%|██████▉   | 228M/330M [00:34<00:11, 9.18MB/s]\n",
            " 69%|██████▉   | 229M/330M [00:34<00:17, 5.97MB/s]\n",
            " 70%|██████▉   | 230M/330M [00:34<00:15, 6.62MB/s]\n",
            " 70%|██████▉   | 231M/330M [00:34<00:14, 7.05MB/s]\n",
            " 70%|███████   | 232M/330M [00:34<00:13, 7.43MB/s]\n",
            " 71%|███████   | 233M/330M [00:35<00:12, 8.03MB/s]\n",
            " 71%|███████   | 234M/330M [00:35<00:12, 8.17MB/s]\n",
            " 71%|███████   | 235M/330M [00:35<00:11, 8.49MB/s]\n",
            " 71%|███████▏  | 236M/330M [00:35<00:16, 6.16MB/s]\n",
            " 72%|███████▏  | 237M/330M [00:35<00:15, 6.24MB/s]\n",
            " 72%|███████▏  | 238M/330M [00:35<00:13, 6.97MB/s]\n",
            " 72%|███████▏  | 239M/330M [00:35<00:12, 7.38MB/s]\n",
            " 73%|███████▎  | 240M/330M [00:36<00:12, 7.87MB/s]\n",
            " 73%|███████▎  | 241M/330M [00:36<00:11, 7.97MB/s]\n",
            " 73%|███████▎  | 242M/330M [00:36<00:11, 8.33MB/s]\n",
            " 74%|███████▎  | 243M/330M [00:36<00:12, 7.14MB/s]\n",
            " 74%|███████▍  | 244M/330M [00:36<00:12, 7.39MB/s]\n",
            " 74%|███████▍  | 245M/330M [00:36<00:13, 6.76MB/s]\n",
            " 74%|███████▍  | 246M/330M [00:37<00:15, 5.81MB/s]\n",
            " 75%|███████▍  | 247M/330M [00:37<00:18, 4.68MB/s]\n",
            " 75%|███████▌  | 248M/330M [00:37<00:17, 4.85MB/s]\n",
            " 75%|███████▌  | 249M/330M [00:37<00:17, 4.94MB/s]\n",
            " 76%|███████▌  | 250M/330M [00:37<00:16, 5.18MB/s]\n",
            " 76%|███████▌  | 251M/330M [00:38<00:14, 5.66MB/s]\n",
            " 76%|███████▋  | 252M/330M [00:38<00:13, 6.27MB/s]\n",
            " 77%|███████▋  | 253M/330M [00:38<00:11, 6.83MB/s]\n",
            " 77%|███████▋  | 254M/330M [00:38<00:10, 7.35MB/s]\n",
            " 77%|███████▋  | 255M/330M [00:38<00:10, 7.38MB/s]\n",
            " 78%|███████▊  | 256M/330M [00:38<00:10, 7.51MB/s]\n",
            " 78%|███████▊  | 257M/330M [00:38<00:11, 6.98MB/s]\n",
            " 78%|███████▊  | 258M/330M [00:39<00:10, 7.25MB/s]\n",
            " 78%|███████▊  | 259M/330M [00:39<00:10, 7.38MB/s]\n",
            " 79%|███████▊  | 260M/330M [00:39<00:09, 7.43MB/s]\n",
            " 79%|███████▉  | 261M/330M [00:39<00:09, 8.06MB/s]\n",
            " 79%|███████▉  | 262M/330M [00:39<00:14, 5.02MB/s]\n",
            " 80%|███████▉  | 263M/330M [00:39<00:12, 5.62MB/s]\n",
            " 80%|███████▉  | 264M/330M [00:40<00:10, 6.48MB/s]\n",
            " 80%|████████  | 265M/330M [00:40<00:09, 7.10MB/s]\n",
            " 81%|████████  | 266M/330M [00:40<00:09, 7.42MB/s]\n",
            " 81%|████████  | 267M/330M [00:40<00:08, 7.73MB/s]\n",
            " 81%|████████  | 268M/330M [00:40<00:08, 7.70MB/s]\n",
            " 81%|████████▏ | 269M/330M [00:40<00:12, 5.23MB/s]\n",
            " 82%|████████▏ | 270M/330M [00:41<00:10, 6.07MB/s]\n",
            " 82%|████████▏ | 271M/330M [00:41<00:12, 4.79MB/s]\n",
            " 82%|████████▏ | 272M/330M [00:41<00:11, 5.47MB/s]\n",
            " 83%|████████▎ | 273M/330M [00:41<00:09, 6.25MB/s]\n",
            " 83%|████████▎ | 274M/330M [00:41<00:08, 6.69MB/s]\n",
            " 83%|████████▎ | 275M/330M [00:41<00:07, 7.30MB/s]\n",
            " 84%|████████▎ | 276M/330M [00:41<00:07, 7.51MB/s]\n",
            " 84%|████████▍ | 277M/330M [00:42<00:07, 7.94MB/s]\n",
            " 84%|████████▍ | 278M/330M [00:42<00:06, 7.89MB/s]\n",
            " 84%|████████▍ | 279M/330M [00:42<00:06, 7.94MB/s]\n",
            " 85%|████████▍ | 280M/330M [00:42<00:06, 8.11MB/s]\n",
            " 85%|████████▌ | 281M/330M [00:42<00:06, 8.23MB/s]\n",
            " 85%|████████▌ | 282M/330M [00:42<00:05, 8.64MB/s]\n",
            " 86%|████████▌ | 283M/330M [00:42<00:06, 8.03MB/s]\n",
            " 86%|████████▌ | 284M/330M [00:42<00:05, 8.42MB/s]\n",
            " 86%|████████▋ | 285M/330M [00:43<00:05, 8.38MB/s]\n",
            " 87%|████████▋ | 286M/330M [00:43<00:05, 8.74MB/s]\n",
            " 87%|████████▋ | 287M/330M [00:43<00:05, 8.40MB/s]\n",
            " 87%|████████▋ | 288M/330M [00:43<00:05, 7.66MB/s]\n",
            " 87%|████████▋ | 289M/330M [00:43<00:06, 7.08MB/s]\n",
            " 88%|████████▊ | 290M/330M [00:43<00:05, 7.10MB/s]\n",
            " 88%|████████▊ | 291M/330M [00:44<00:06, 6.75MB/s]\n",
            " 88%|████████▊ | 292M/330M [00:44<00:05, 7.04MB/s]\n",
            " 89%|████████▊ | 293M/330M [00:44<00:05, 7.48MB/s]\n",
            " 89%|████████▉ | 294M/330M [00:44<00:04, 7.64MB/s]\n",
            " 89%|████████▉ | 295M/330M [00:44<00:04, 8.16MB/s]\n",
            " 90%|████████▉ | 296M/330M [00:44<00:04, 8.34MB/s]\n",
            " 90%|████████▉ | 297M/330M [00:44<00:06, 5.61MB/s]\n",
            " 90%|█████████ | 298M/330M [00:45<00:05, 6.05MB/s]\n",
            " 91%|█████████ | 299M/330M [00:45<00:05, 6.41MB/s]\n",
            " 91%|█████████ | 300M/330M [00:45<00:04, 6.45MB/s]\n",
            " 91%|█████████ | 301M/330M [00:45<00:07, 4.34MB/s]\n",
            " 91%|█████████▏| 302M/330M [00:45<00:06, 4.89MB/s]\n",
            " 92%|█████████▏| 303M/330M [00:46<00:05, 5.67MB/s]\n",
            " 92%|█████████▏| 305M/330M [00:46<00:03, 7.03MB/s]\n",
            " 93%|█████████▎| 306M/330M [00:46<00:03, 7.26MB/s]\n",
            " 93%|█████████▎| 307M/330M [00:46<00:03, 7.64MB/s]\n",
            " 93%|█████████▎| 308M/330M [00:46<00:02, 7.82MB/s]\n",
            " 94%|█████████▎| 309M/330M [00:46<00:03, 6.94MB/s]\n",
            " 94%|█████████▍| 310M/330M [00:47<00:02, 7.24MB/s]\n",
            " 94%|█████████▍| 311M/330M [00:47<00:02, 7.62MB/s]\n",
            " 94%|█████████▍| 312M/330M [00:47<00:02, 7.88MB/s]\n",
            " 95%|█████████▌| 314M/330M [00:47<00:01, 8.69MB/s]\n",
            " 95%|█████████▌| 315M/330M [00:47<00:01, 8.55MB/s]\n",
            " 96%|█████████▌| 316M/330M [00:47<00:01, 8.14MB/s]\n",
            " 96%|█████████▌| 317M/330M [00:47<00:01, 7.93MB/s]\n",
            " 96%|█████████▋| 318M/330M [00:48<00:01, 7.70MB/s]\n",
            " 97%|█████████▋| 319M/330M [00:48<00:01, 7.76MB/s]\n",
            " 97%|█████████▋| 320M/330M [00:48<00:01, 7.69MB/s]\n",
            " 97%|█████████▋| 321M/330M [00:48<00:01, 7.71MB/s]\n",
            " 97%|█████████▋| 322M/330M [00:48<00:01, 8.05MB/s]\n",
            " 98%|█████████▊| 323M/330M [00:48<00:01, 5.75MB/s]\n",
            " 98%|█████████▊| 324M/330M [00:48<00:01, 6.47MB/s]\n",
            " 98%|█████████▊| 325M/330M [00:49<00:00, 6.62MB/s]\n",
            " 99%|█████████▊| 326M/330M [00:49<00:00, 7.17MB/s]\n",
            " 99%|█████████▉| 327M/330M [00:49<00:00, 7.62MB/s]\n",
            " 99%|█████████▉| 328M/330M [00:49<00:00, 8.06MB/s]\n",
            "100%|█████████▉| 329M/330M [00:49<00:00, 8.57MB/s]\n",
            "100%|█████████▉| 330M/330M [00:49<00:00, 8.31MB/s]\n",
            "100%|██████████| 330M/330M [00:49<00:00, 6.96MB/s]\n"
          ]
        }
      ],
      "source": [
        "!kaggle datasets download -d ashishjangra27/face-mask-12k-images-dataset"
      ]
    },
    {
      "cell_type": "markdown",
      "metadata": {
        "id": "Yijb34RcWt0-"
      },
      "source": [
        "##Preprocessing the Data"
      ]
    },
    {
      "cell_type": "code",
      "execution_count": 1,
      "metadata": {
        "id": "cKGpz41NWlHd"
      },
      "outputs": [
        {
          "ename": "ModuleNotFoundError",
          "evalue": "No module named 'tensorflow'",
          "output_type": "error",
          "traceback": [
            "\u001b[1;31m---------------------------------------------------------------------------\u001b[0m",
            "\u001b[1;31mModuleNotFoundError\u001b[0m                       Traceback (most recent call last)",
            "Cell \u001b[1;32mIn[1], line 1\u001b[0m\n\u001b[1;32m----> 1\u001b[0m \u001b[39mimport\u001b[39;00m \u001b[39mtensorflow\u001b[39;00m \u001b[39mas\u001b[39;00m \u001b[39mtf\u001b[39;00m\n\u001b[0;32m      2\u001b[0m \u001b[39mfrom\u001b[39;00m \u001b[39mtensorflow\u001b[39;00m\u001b[39m.\u001b[39;00m\u001b[39mkeras\u001b[39;00m\u001b[39m.\u001b[39;00m\u001b[39mpreprocessing\u001b[39;00m\u001b[39m.\u001b[39;00m\u001b[39mimage\u001b[39;00m \u001b[39mimport\u001b[39;00m ImageDataGenerator\n",
            "\u001b[1;31mModuleNotFoundError\u001b[0m: No module named 'tensorflow'"
          ]
        }
      ],
      "source": [
        "import tensorflow as tf\n",
        "from tensorflow.keras.preprocessing.image import ImageDataGenerator"
      ]
    },
    {
      "cell_type": "code",
      "execution_count": null,
      "metadata": {
        "id": "oa5D97f2W00N"
      },
      "outputs": [],
      "source": [
        "INPUT_SIZE = [128,128]\n",
        "BATCH = 3"
      ]
    },
    {
      "cell_type": "code",
      "execution_count": null,
      "metadata": {
        "colab": {
          "base_uri": "https://localhost:8080/"
        },
        "id": "r8nHESR2W3Cm",
        "outputId": "dcb7b3ee-cec7-4c8e-9b1b-72dc579ac0b9"
      },
      "outputs": [
        {
          "name": "stdout",
          "output_type": "stream",
          "text": [
            "Found 10000 images belonging to 2 classes.\n"
          ]
        }
      ],
      "source": [
        "training_datagen = ImageDataGenerator(rescale=1./255,\n",
        "                                      shear_range=0.2,\n",
        "                                      zoom_range = 0.2,\n",
        "                                      )\n",
        "\n",
        "training_data = training_datagen.flow_from_directory('/content/Face Mask Dataset/Train',\n",
        "                                                     target_size = INPUT_SIZE,\n",
        "                                                     batch_size=BATCH,\n",
        "                                                     class_mode = 'binary'\n",
        "                                                    )"
      ]
    },
    {
      "cell_type": "code",
      "execution_count": null,
      "metadata": {
        "colab": {
          "base_uri": "https://localhost:8080/"
        },
        "id": "u0PsAgShW4_e",
        "outputId": "1f76b967-4030-4a33-dd8a-648bf1099919"
      },
      "outputs": [
        {
          "name": "stdout",
          "output_type": "stream",
          "text": [
            "Found 992 images belonging to 2 classes.\n"
          ]
        }
      ],
      "source": [
        "test_datagen = ImageDataGenerator(rescale=1./255)\n",
        "\n",
        "test_data = training_datagen.flow_from_directory('/content/Face Mask Dataset/Test',\n",
        "                                                     target_size = INPUT_SIZE,\n",
        "                                                     batch_size=BATCH,\n",
        "                                                     class_mode = 'binary'\n",
        "                                                     )"
      ]
    },
    {
      "cell_type": "markdown",
      "metadata": {
        "id": "5i2syUCZW9LW"
      },
      "source": [
        "## Importing VGG16"
      ]
    },
    {
      "cell_type": "code",
      "execution_count": null,
      "metadata": {
        "id": "7gGnjg7lW66m"
      },
      "outputs": [],
      "source": [
        "from tensorflow.keras.layers import Input, Lambda, Dense, Flatten\n",
        "from tensorflow.keras.models import Model, Sequential\n",
        "from tensorflow.keras.applications.vgg16 import VGG16\n",
        "from tensorflow.keras.applications.vgg16 import preprocess_input"
      ]
    },
    {
      "cell_type": "code",
      "execution_count": null,
      "metadata": {
        "colab": {
          "base_uri": "https://localhost:8080/"
        },
        "id": "u16zZSq_XHEO",
        "outputId": "e259a633-26c6-40dd-8eae-b051cb28d56a"
      },
      "outputs": [
        {
          "name": "stdout",
          "output_type": "stream",
          "text": [
            "Downloading data from https://storage.googleapis.com/tensorflow/keras-applications/vgg16/vgg16_weights_tf_dim_ordering_tf_kernels_notop.h5\n",
            "58889256/58889256 [==============================] - 4s 0us/step\n"
          ]
        }
      ],
      "source": [
        "vgg16 = VGG16(input_shape=INPUT_SIZE + [3], weights='imagenet', include_top=False)"
      ]
    },
    {
      "cell_type": "code",
      "execution_count": null,
      "metadata": {
        "id": "pyvl1USvXH-2"
      },
      "outputs": [],
      "source": [
        "for layer in vgg16.layers:\n",
        "    layer.trainable = False"
      ]
    },
    {
      "cell_type": "code",
      "execution_count": null,
      "metadata": {
        "id": "eeE-JFtsYCVG"
      },
      "outputs": [],
      "source": [
        "for layer in vgg16.layers:\n",
        "    layer.trainable = False"
      ]
    },
    {
      "cell_type": "code",
      "execution_count": null,
      "metadata": {
        "colab": {
          "base_uri": "https://localhost:8080/"
        },
        "id": "Sk7Ln-woYEyg",
        "outputId": "8b0d3153-442a-4d70-aced-d260295bcae4"
      },
      "outputs": [
        {
          "name": "stdout",
          "output_type": "stream",
          "text": [
            "Model: \"vgg16\"\n",
            "_________________________________________________________________\n",
            " Layer (type)                Output Shape              Param #   \n",
            "=================================================================\n",
            " input_1 (InputLayer)        [(None, 128, 128, 3)]     0         \n",
            "                                                                 \n",
            " block1_conv1 (Conv2D)       (None, 128, 128, 64)      1792      \n",
            "                                                                 \n",
            " block1_conv2 (Conv2D)       (None, 128, 128, 64)      36928     \n",
            "                                                                 \n",
            " block1_pool (MaxPooling2D)  (None, 64, 64, 64)        0         \n",
            "                                                                 \n",
            " block2_conv1 (Conv2D)       (None, 64, 64, 128)       73856     \n",
            "                                                                 \n",
            " block2_conv2 (Conv2D)       (None, 64, 64, 128)       147584    \n",
            "                                                                 \n",
            " block2_pool (MaxPooling2D)  (None, 32, 32, 128)       0         \n",
            "                                                                 \n",
            " block3_conv1 (Conv2D)       (None, 32, 32, 256)       295168    \n",
            "                                                                 \n",
            " block3_conv2 (Conv2D)       (None, 32, 32, 256)       590080    \n",
            "                                                                 \n",
            " block3_conv3 (Conv2D)       (None, 32, 32, 256)       590080    \n",
            "                                                                 \n",
            " block3_pool (MaxPooling2D)  (None, 16, 16, 256)       0         \n",
            "                                                                 \n",
            " block4_conv1 (Conv2D)       (None, 16, 16, 512)       1180160   \n",
            "                                                                 \n",
            " block4_conv2 (Conv2D)       (None, 16, 16, 512)       2359808   \n",
            "                                                                 \n",
            " block4_conv3 (Conv2D)       (None, 16, 16, 512)       2359808   \n",
            "                                                                 \n",
            " block4_pool (MaxPooling2D)  (None, 8, 8, 512)         0         \n",
            "                                                                 \n",
            " block5_conv1 (Conv2D)       (None, 8, 8, 512)         2359808   \n",
            "                                                                 \n",
            " block5_conv2 (Conv2D)       (None, 8, 8, 512)         2359808   \n",
            "                                                                 \n",
            " block5_conv3 (Conv2D)       (None, 8, 8, 512)         2359808   \n",
            "                                                                 \n",
            " block5_pool (MaxPooling2D)  (None, 4, 4, 512)         0         \n",
            "                                                                 \n",
            "=================================================================\n",
            "Total params: 14,714,688\n",
            "Trainable params: 0\n",
            "Non-trainable params: 14,714,688\n",
            "_________________________________________________________________\n"
          ]
        }
      ],
      "source": [
        "vgg16.summary()"
      ]
    },
    {
      "cell_type": "code",
      "execution_count": null,
      "metadata": {
        "id": "TSNbyD6YYF6-"
      },
      "outputs": [],
      "source": [
        "flatten = Flatten()(vgg16.output)\n",
        "dense_1 = Dense(units=500, activation='relu')(flatten)\n",
        "dense_2 = Dense(units=500, activation='relu')(dense_1)\n",
        "dense_3 = Dense(units=100, activation='relu')(dense_2)\n",
        "dense_4 = Dense(units=100, activation='relu')(dense_3)\n",
        "dense_output = Dense(units=1, activation='sigmoid')(dense_4)"
      ]
    },
    {
      "cell_type": "code",
      "execution_count": null,
      "metadata": {
        "id": "iQc1dtfZYKlO"
      },
      "outputs": [],
      "source": [
        "model = Model(inputs=vgg16.input, outputs=dense_output)"
      ]
    },
    {
      "cell_type": "code",
      "execution_count": null,
      "metadata": {
        "id": "HFG36Rk2YNLm"
      },
      "outputs": [],
      "source": [
        "model.compile(\n",
        "  loss='binary_crossentropy',\n",
        "  optimizer='adam',\n",
        "  metrics=['accuracy']\n",
        ")"
      ]
    },
    {
      "cell_type": "code",
      "execution_count": 33,
      "metadata": {
        "colab": {
          "base_uri": "https://localhost:8080/"
        },
        "id": "QUdlNqyVYNwe",
        "outputId": "c025fe1f-06e7-472e-96cc-14ee77dee5d8"
      },
      "outputs": [
        {
          "name": "stdout",
          "output_type": "stream",
          "text": [
            "Epoch 1/5\n",
            "   4/3334 [..............................] - ETA: 1:14 - loss: 3.7243e-10 - accuracy: 1.0000"
          ]
        },
        {
          "name": "stderr",
          "output_type": "stream",
          "text": [
            "<ipython-input-33-a09db9ab8e95>:1: UserWarning: `Model.fit_generator` is deprecated and will be removed in a future version. Please use `Model.fit`, which supports generators.\n",
            "  r = model.fit_generator(\n"
          ]
        },
        {
          "name": "stdout",
          "output_type": "stream",
          "text": [
            "3334/3334 [==============================] - 83s 25ms/step - loss: 0.0092 - accuracy: 0.9989 - val_loss: 0.1271 - val_accuracy: 0.9869\n",
            "Epoch 2/5\n",
            "3334/3334 [==============================] - 76s 23ms/step - loss: 0.0093 - accuracy: 0.9984 - val_loss: 0.0284 - val_accuracy: 0.9980\n",
            "Epoch 3/5\n",
            "3334/3334 [==============================] - 82s 24ms/step - loss: 0.0034 - accuracy: 0.9987 - val_loss: 0.1936 - val_accuracy: 0.9929\n",
            "Epoch 4/5\n",
            "3334/3334 [==============================] - 76s 23ms/step - loss: 0.0059 - accuracy: 0.9989 - val_loss: 0.0421 - val_accuracy: 0.9960\n",
            "Epoch 5/5\n",
            "3334/3334 [==============================] - 78s 23ms/step - loss: 0.0103 - accuracy: 0.9980 - val_loss: 0.0656 - val_accuracy: 0.9970\n"
          ]
        }
      ],
      "source": [
        "r = model.fit_generator(\n",
        "  training_data,\n",
        "  validation_data=test_data,\n",
        "  epochs=5, #To be Run on 60 epochs for maximum efficiency \n",
        "  steps_per_epoch=len(training_data),\n",
        "  validation_steps=len(test_data)\n",
        ")"
      ]
    },
    {
      "cell_type": "markdown",
      "metadata": {
        "id": "1o6GV2yNYUE-"
      },
      "source": [
        "## Visualization"
      ]
    },
    {
      "cell_type": "code",
      "execution_count": 34,
      "metadata": {
        "colab": {
          "base_uri": "https://localhost:8080/",
          "height": 860
        },
        "id": "zxdLNfT7YW4G",
        "outputId": "51b46acb-b1dd-47c7-dfbc-80257c439542"
      },
      "outputs": [
        {
          "data": {
            "image/png": "[encoded data removed]",
            "text/plain": [
              "<Figure size 640x480 with 1 Axes>"
            ]
          },
          "metadata": {},
          "output_type": "display_data"
        },
        {
          "data": {
            "image/png": "[encoded data removed]",
            "text/plain": [
              "<Figure size 640x480 with 1 Axes>"
            ]
          },
          "metadata": {},
          "output_type": "display_data"
        },
        {
          "data": {
            "text/plain": [
              "<Figure size 640x480 with 0 Axes>"
            ]
          },
          "metadata": {},
          "output_type": "display_data"
        }
      ],
      "source": [
        "import matplotlib.pyplot as plt\n",
        "plt.plot(r.history['loss'], label='train loss')\n",
        "plt.plot(r.history['val_loss'], label='val loss')\n",
        "plt.legend()\n",
        "plt.show()\n",
        "plt.savefig('LossVal_loss')\n",
        "\n",
        "# plot the accuracy\n",
        "plt.plot(r.history['accuracy'], label='train acc')\n",
        "plt.plot(r.history['val_accuracy'], label='val acc')\n",
        "plt.legend()\n",
        "plt.show()\n",
        "plt.savefig('AccVal_acc')"
      ]
    },
    {
      "cell_type": "markdown",
      "metadata": {
        "id": "3lGC7scUYZpu"
      },
      "source": [
        "## Validating the Model"
      ]
    },
    {
      "cell_type": "code",
      "execution_count": 52,
      "metadata": {
        "colab": {
          "base_uri": "https://localhost:8080/",
          "height": 301
        },
        "id": "_siAhI4zYdi2",
        "outputId": "2ae4d7e0-9beb-4608-ad03-46cb5deba68b"
      },
      "outputs": [
        {
          "name": "stdout",
          "output_type": "stream",
          "text": [
            "1/1 [==============================] - 0s 28ms/step\n"
          ]
        },
        {
          "data": {
            "image/png": "[encoded data removed]",
            "text/plain": [
              "<IPython.core.display.Image object>"
            ]
          },
          "metadata": {},
          "output_type": "display_data"
        },
        {
          "name": "stdout",
          "output_type": "stream",
          "text": [
            "The Person above has no mask\n",
            "1/1 [==============================] - 0s 27ms/step\n"
          ]
        },
        {
          "data": {
            "image/png": "[encoded data removed]",
            "text/plain": [
              "<IPython.core.display.Image object>"
            ]
          },
          "metadata": {},
          "output_type": "display_data"
        },
        {
          "name": "stdout",
          "output_type": "stream",
          "text": [
            "The person above has a mask\n"
          ]
        }
      ],
      "source": [
        "import numpy as np\n",
        "from IPython.display import Image\n",
        "from tensorflow.keras.preprocessing import image\n",
        "\n",
        "images = ['/content/Face Mask Dataset/Validation/WithoutMask/1348.png',          \n",
        "          '/content/Face Mask Dataset/Validation/WithMask/1002.png']\n",
        "\n",
        "for image_path in images:\n",
        "    test_image = image.load_img(image_path, target_size=INPUT_SIZE)\n",
        "    test_image = image.img_to_array(test_image) / 255\n",
        "    test_image = np.expand_dims(test_image, axis=0)\n",
        "    result = model.predict(test_image)[0][0]\n",
        "    display(Image(image_path))\n",
        "    if result < 0.5:\n",
        "        print('The person above has a mask')\n",
        "    else:\n",
        "        print('The Person above has no mask')"
      ]
    },
    {
      "cell_type": "code",
      "execution_count": null,
      "metadata": {
        "id": "6ctZYxPmc8ku"
      },
      "outputs": [],
      "source": [
        "model.save('face_mask_vgg16.h5')\n",
        "files.download('face_mask_vgg16.h5')"
      ]
    },
    {
      "cell_type": "code",
      "execution_count": null,
      "metadata": {
        "id": "z9STzx92uDTh"
      },
      "outputs": [],
      "source": [
        "sample_image_1 = cv2.imread()\n",
        "sample_image_1 = cv2.resize(sample_image_1, (224,224))"
      ]
    },
    {
      "cell_type": "code",
      "execution_count": 1,
      "metadata": {
        "id": "9ykswJtefa7j"
      },
      "outputs": [],
      "source": [
        "def face_mask_detection(img):\n",
        "  y_pred = model.predict_classes(1,224,224,3)\n",
        "  return y_pred"
      ]
    },
    {
      "cell_type": "code",
      "execution_count": null,
      "metadata": {
        "id": "CVx2JdvHuYP5"
      },
      "outputs": [],
      "source": [
        "face_mask_detection(sample_image_1)"
      ]
    },
    {
      "cell_type": "code",
      "execution_count": 3,
      "metadata": {
        "colab": {
          "base_uri": "https://localhost:8080/"
        },
        "id": "UzVkUDS6a3Hu",
        "outputId": "f265b0d1-f504-4864-bfad-186c7e1f03bb"
      },
      "outputs": [
        {
          "name": "stdout",
          "output_type": "stream",
          "text": [
            "Could not open video capture device\n",
            "Failed to capture frame\n"
          ]
        }
      ],
      "source": [
        "import cv2\n",
        "\n",
        "cap = cv2.VideoCapture(0)\n",
        "\n",
        "# Check if the video capture device is open\n",
        "if not cap.isOpened():\n",
        "    print(\"Could not open video capture device\")\n",
        "    exit()\n",
        "\n",
        "# Set a delay between frames\n",
        "delay = 10\n",
        "\n",
        "# Try a different resolution\n",
        "width = 640\n",
        "height = 480\n",
        "cap.set(cv2.CAP_PROP_FRAME_WIDTH, width)\n",
        "cap.set(cv2.CAP_PROP_FRAME_HEIGHT, height)\n",
        "\n",
        "while True:\n",
        "    # Capture a frame\n",
        "    ret, frame = cap.read()\n",
        "\n",
        "    #Calling the prediction\n",
        "    img = cv2.resize(frame, (224,224))\n",
        "\n",
        "    y_pred = face_mask_detection(frame)\n",
        "\n",
        "    print(y_pred)\n",
        "    # Check if the frame was captured successfully\n",
        "    if not ret:\n",
        "        print(\"Failed to capture frame\")\n",
        "        break\n",
        "\n",
        "    # Show the frame\n",
        "    cv2.imshow(\"window\", frame)\n",
        "\n",
        "    # Wait for a key press\n",
        "    key = cv2.waitKey(delay)\n",
        "\n",
        "    # Check if the 'x' key was pressed\n",
        "    if key == ord('x'):\n",
        "        break\n",
        "\n",
        "# Release the video capture device and close the window\n",
        "cap.release()\n",
        "cv2.destroyAllWindows()\n"
      ]
    },
    {
      "cell_type": "code",
      "execution_count": null,
      "metadata": {
        "id": "LMbtkI2adAq2"
      },
      "outputs": [],
      "source": [
        "#TODO --> Importing pickle for Streamlit application\n",
        "import pickle"
      ]
    }
  ],
  "metadata": {
    "accelerator": "GPU",
    "colab": {
      "provenance": []
    },
    "gpuClass": "standard",
    "kernelspec": {
      "display_name": "Python 3",
      "name": "python3"
    },
    "language_info": {
      "codemirror_mode": {
        "name": "ipython",
        "version": 3
      },
      "file_extension": ".py",
      "mimetype": "text/x-python",
      "name": "python",
      "nbconvert_exporter": "python",
      "pygments_lexer": "ipython3",
      "version": "3.10.9"
    }
  },
  "nbformat": 4,
  "nbformat_minor": 0
}
